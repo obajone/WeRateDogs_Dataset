{
 "cells": [
  {
   "cell_type": "markdown",
   "id": "70a9f503",
   "metadata": {},
   "source": [
    "# Project: Wrangling and Analyze Data"
   ]
  },
  {
   "cell_type": "markdown",
   "id": "d865f064",
   "metadata": {},
   "source": [
    "## Data Gathering\n",
    "In the cells below, **all** three pieces of data for this project will be gathered and loaded in the notebook. "
   ]
  },
  {
   "cell_type": "code",
   "execution_count": 1,
   "id": "161d58a2",
   "metadata": {},
   "outputs": [
    {
     "ename": "ModuleNotFoundError",
     "evalue": "No module named 'twitter_keys'",
     "output_type": "error",
     "traceback": [
      "\u001b[1;31m---------------------------------------------------------------------------\u001b[0m",
      "\u001b[1;31mModuleNotFoundError\u001b[0m                       Traceback (most recent call last)",
      "\u001b[1;32m<ipython-input-1-a5def5a5dfc5>\u001b[0m in \u001b[0;36m<module>\u001b[1;34m\u001b[0m\n\u001b[0;32m     11\u001b[0m \u001b[1;32mimport\u001b[0m \u001b[0mmatplotlib\u001b[0m\u001b[1;33m.\u001b[0m\u001b[0mpyplot\u001b[0m \u001b[1;32mas\u001b[0m \u001b[0mplt\u001b[0m\u001b[1;33m\u001b[0m\u001b[1;33m\u001b[0m\u001b[0m\n\u001b[0;32m     12\u001b[0m \u001b[1;32mimport\u001b[0m \u001b[0mseaborn\u001b[0m \u001b[1;32mas\u001b[0m \u001b[0msns\u001b[0m\u001b[1;33m\u001b[0m\u001b[1;33m\u001b[0m\u001b[0m\n\u001b[1;32m---> 13\u001b[1;33m \u001b[1;32mimport\u001b[0m \u001b[0mtwitter_keys\u001b[0m \u001b[1;32mas\u001b[0m \u001b[0mkeys\u001b[0m\u001b[1;33m\u001b[0m\u001b[1;33m\u001b[0m\u001b[0m\n\u001b[0m\u001b[0;32m     14\u001b[0m \u001b[0mget_ipython\u001b[0m\u001b[1;33m(\u001b[0m\u001b[1;33m)\u001b[0m\u001b[1;33m.\u001b[0m\u001b[0mrun_line_magic\u001b[0m\u001b[1;33m(\u001b[0m\u001b[1;34m'matplotlib'\u001b[0m\u001b[1;33m,\u001b[0m \u001b[1;34m'inline'\u001b[0m\u001b[1;33m)\u001b[0m\u001b[1;33m\u001b[0m\u001b[1;33m\u001b[0m\u001b[0m\n",
      "\u001b[1;31mModuleNotFoundError\u001b[0m: No module named 'twitter_keys'"
     ]
    }
   ],
   "source": [
    "# importing needed libraries\n",
    "import tweepy\n",
    "from tweepy import OAuthHandler\n",
    "import json\n",
    "from timeit import default_timer as timer\n",
    "import requests\n",
    "import pandas as pd\n",
    "import numpy as np\n",
    "import json\n",
    "import os\n",
    "import matplotlib.pyplot as plt\n",
    "import seaborn as sns\n",
    "import twitter_keys as keys\n",
    "%matplotlib inline"
   ]
  },
  {
   "cell_type": "code",
   "execution_count": null,
   "id": "fe7327d5",
   "metadata": {},
   "outputs": [],
   "source": [
    "#  Downloading the image_predictions.tsv file programmatically\n",
    "url = 'https://d17h27t6h515a5.cloudfront.net/topher/2017/August/599fd2ad_image-predictions/image-predictions.tsv'\n",
    "response = requests.get(url)\n",
    "with open('image_predictions.tsv', 'wb') as file:\n",
    "    file.write(response.content)"
   ]
  },
  {
   "cell_type": "code",
   "execution_count": null,
   "id": "586a0a2b",
   "metadata": {},
   "outputs": [],
   "source": [
    "# Loading of data\n",
    "twitter_archive_df = pd.read_csv('twitter-archive-enhanced.csv')\n",
    "image_predictions_df = pd.read_csv('image_predictions.tsv', sep='\\t')\n",
    "arr = [json.loads(i) for i in open(\"tweet-json.txt\")]\n",
    "twitter_jason_df = pd.DataFrame(arr)"
   ]
  },
  {
   "cell_type": "code",
   "execution_count": null,
   "id": "0b1e48f4",
   "metadata": {},
   "outputs": [],
   "source": [
    "twitter_archive_df"
   ]
  },
  {
   "cell_type": "code",
   "execution_count": null,
   "id": "df858aa8",
   "metadata": {},
   "outputs": [],
   "source": [
    "twitter_archive_df.shape"
   ]
  },
  {
   "cell_type": "code",
   "execution_count": null,
   "id": "0dff41c6",
   "metadata": {},
   "outputs": [],
   "source": [
    "image_predictions_df"
   ]
  },
  {
   "cell_type": "code",
   "execution_count": null,
   "id": "a024f62f",
   "metadata": {},
   "outputs": [],
   "source": [
    "image_predictions_df.shape"
   ]
  },
  {
   "cell_type": "code",
   "execution_count": null,
   "id": "53bfbc9a",
   "metadata": {},
   "outputs": [],
   "source": [
    "twitter_jason_df"
   ]
  },
  {
   "cell_type": "code",
   "execution_count": null,
   "id": "00035851",
   "metadata": {},
   "outputs": [],
   "source": [
    "twitter_jason_df.shape"
   ]
  },
  {
   "cell_type": "code",
   "execution_count": null,
   "id": "1c9212f9",
   "metadata": {},
   "outputs": [],
   "source": [
    "twitter_archive_df.info()"
   ]
  },
  {
   "cell_type": "code",
   "execution_count": null,
   "id": "04a633fc",
   "metadata": {},
   "outputs": [],
   "source": [
    "twitter_archive_df.sample(10)"
   ]
  },
  {
   "cell_type": "code",
   "execution_count": null,
   "id": "10bd2a5d",
   "metadata": {},
   "outputs": [],
   "source": [
    "improper_denominator_df = twitter_archive_df[twitter_archive_df['rating_denominator'] != 10]\n",
    "improper_denominator_df"
   ]
  },
  {
   "cell_type": "code",
   "execution_count": null,
   "id": "a977f585",
   "metadata": {},
   "outputs": [],
   "source": [
    "for text in improper_denominator_df['text'].values:\n",
    "    print(text)"
   ]
  },
  {
   "cell_type": "code",
   "execution_count": null,
   "id": "e1ec7a6d",
   "metadata": {},
   "outputs": [],
   "source": [
    "image_predictions_df.sample(10)"
   ]
  },
  {
   "cell_type": "code",
   "execution_count": null,
   "id": "4a170452",
   "metadata": {},
   "outputs": [],
   "source": [
    "image_predictions_df.info()"
   ]
  },
  {
   "cell_type": "code",
   "execution_count": null,
   "id": "401ff23b",
   "metadata": {},
   "outputs": [],
   "source": [
    "twitter_jason_df.sample(10)"
   ]
  },
  {
   "cell_type": "code",
   "execution_count": null,
   "id": "ad07b6b6",
   "metadata": {},
   "outputs": [],
   "source": [
    "twitter_jason_df.info()"
   ]
  },
  {
   "cell_type": "markdown",
   "id": "49620b45",
   "metadata": {},
   "source": [
    "### ASSESSEMENT\n",
    "## Quality Issues (twitter_archive_df)\n",
    "\n",
    "    1. 13/10 rating for dog at index 313 not 13/0. Inaccurate rating_numerator value.\n",
    "    2. 14/10 rating for dog at index 784 not 9/11. Inaccurate rating_numerator and rating_denominator values.\n",
    "    3. 13/10 rating for dog at index 1165 not 4/20. Inaccurate rating_numerator and rating_denominator values.\n",
    "    4. 11/10 rating for dog at index 1202 not 50/50. Inaccurate rating_numerator and rating_denominator values.\n",
    "    5. 10/10 rating for dog at index 1662 not 7/11. Inaccurate rating_numerator and rating_denominator values.\n",
    "    6. 9/10 rating for dog at index 2335 not 1/2. Inaccurate rating_numerator and rating_denominator values.\n",
    "    7. Rating text and score for dog at index 1068 is the same with index 784. Both are the same dog. \n",
    "    8. There is actually no rating for dog at index 516. \n",
    "    9. There is actually no rating for dog at index 342.\n",
    "    10. 204/170 rating for dog at index 1120. rating_denominator is not consistent.\n",
    "    11. 99/90 rating for dog at index 1228. rating_denominator is not consistent.\n",
    "    12.80/80 rating for dog at index 1254. rating_denominator is not consistent.\n",
    "    13. 45/50 rating for dog at index 1274. rating_denominator is not consistent.\n",
    "    14. 60/50 rating for dog at index 1351. rating_denominator is not consistent.\n",
    "    15. 44/40 rating for dog at index 1433. rating_denominator is not consistent.\n",
    "    16. 4/20 rating for dog at index 1598. rating_denominator is not consistent.\n",
    "    17. 143/130 rating for dog at index1634. rating_denominator is not consistent.\n",
    "    18. 121/110 rating for dog at index 1635. rating_denominator is not consistent.\n",
    "    19. 84/70 rating for dog at index 433. rating_denominator is not consistent.\n",
    "    20. 20/16 rating for dog at index 1663. rating_denominator is not consistent.\n",
    "    21. 144/120 rating for dog at index 1779. rating_denominator is not consistent.\n",
    "    22. 88/80 rating for dog at index 1843. rating_denominator is not consistent.\n",
    "    23. 165/150 rating for dog at index 902. rating_denominator is not consistent.\n",
    "    \n",
    "## Tidiness Issues (twitter_jason_df)\n",
    "    1. Created_at column should be split into week_day, month, year and time columns.\n",
    "    2. Entities column should be a table of its own.\n",
    "    3. extended entities should be a table of its own.\n"
   ]
  },
  {
   "cell_type": "markdown",
   "id": "3a4ab46c",
   "metadata": {},
   "source": [
    "# Cleaning Data\n",
    "In this section, all of the issues documented during assessment will be cleaned."
   ]
  },
  {
   "cell_type": "code",
   "execution_count": null,
   "id": "87923154",
   "metadata": {},
   "outputs": [],
   "source": [
    "# Making opies of the datasets\n",
    "twitter_archive_clean_copy = twitter_archive_df.copy()\n",
    "twitter_jason_df_clean_copy = twitter_jason_df.copy()\n",
    "image_predictions_df_clean_copy = image_predictions_df.copy()"
   ]
  },
  {
   "cell_type": "markdown",
   "id": "5a6bec7b",
   "metadata": {},
   "source": [
    "### Quality Issue #1: 13/10 rating for dog at index 313 not 13/0"
   ]
  },
  {
   "cell_type": "markdown",
   "id": "ab2e971c",
   "metadata": {},
   "source": [
    "#### Define\n",
    "Replace  0 with 10 in the rating_denominator at index 313."
   ]
  },
  {
   "cell_type": "markdown",
   "id": "74c417e2",
   "metadata": {},
   "source": [
    "#### Code"
   ]
  },
  {
   "cell_type": "code",
   "execution_count": null,
   "id": "5ba8906a",
   "metadata": {},
   "outputs": [],
   "source": [
    "twitter_archive_clean_copy.at[313, 'rating_denominator'] = 10"
   ]
  },
  {
   "cell_type": "markdown",
   "id": "05a1b6c5",
   "metadata": {},
   "source": [
    "#### Test"
   ]
  },
  {
   "cell_type": "code",
   "execution_count": null,
   "id": "41999c84",
   "metadata": {},
   "outputs": [],
   "source": [
    "assert twitter_archive_clean_copy.at[313, 'rating_denominator'] == 10"
   ]
  },
  {
   "cell_type": "markdown",
   "id": "3029b46a",
   "metadata": {},
   "source": [
    "### Quality Issue #2: 14/10 rating for dog at index 784 not 9/11"
   ]
  },
  {
   "cell_type": "markdown",
   "id": "fc467da6",
   "metadata": {},
   "source": [
    "#### Define\n",
    "Replace  11 with 10 in the rating_denominator at index 784. <br>\n",
    "Replace  9 with 14 in the rating_numerator at index 784."
   ]
  },
  {
   "cell_type": "markdown",
   "id": "a4f1c5a7",
   "metadata": {},
   "source": [
    "#### Code"
   ]
  },
  {
   "cell_type": "code",
   "execution_count": null,
   "id": "69ceb60b",
   "metadata": {},
   "outputs": [],
   "source": [
    "twitter_archive_clean_copy.at[784, 'rating_denominator'] "
   ]
  },
  {
   "cell_type": "code",
   "execution_count": null,
   "id": "46dbeeb7",
   "metadata": {},
   "outputs": [],
   "source": [
    "twitter_archive_clean_copy.at[784, 'rating_denominator']  = 10"
   ]
  },
  {
   "cell_type": "code",
   "execution_count": null,
   "id": "30a76ff7",
   "metadata": {},
   "outputs": [],
   "source": [
    "twitter_archive_clean_copy.at[784, 'rating_numerator']"
   ]
  },
  {
   "cell_type": "code",
   "execution_count": null,
   "id": "9b93f6f7",
   "metadata": {},
   "outputs": [],
   "source": [
    "twitter_archive_clean_copy.at[784, 'rating_numerator'] = 14"
   ]
  },
  {
   "cell_type": "markdown",
   "id": "e13b846c",
   "metadata": {},
   "source": [
    "#### Test"
   ]
  },
  {
   "cell_type": "code",
   "execution_count": null,
   "id": "9f85ec57",
   "metadata": {},
   "outputs": [],
   "source": [
    "assert twitter_archive_clean_copy.at[784, 'rating_denominator']  == 10"
   ]
  },
  {
   "cell_type": "code",
   "execution_count": null,
   "id": "fca13c45",
   "metadata": {},
   "outputs": [],
   "source": [
    "assert twitter_archive_clean_copy.at[784, 'rating_numerator'] == 14"
   ]
  },
  {
   "cell_type": "markdown",
   "id": "79ef17bb",
   "metadata": {},
   "source": [
    "### Quality Issue #3: 13/10 rating for dog at index 1165 not 4/20."
   ]
  },
  {
   "cell_type": "markdown",
   "id": "05f45ae8",
   "metadata": {},
   "source": [
    "#### Define\n",
    "Replace  4 with 13 in the rating_numerator at index 1165. <br>\n",
    "Replace  20 with 10 in the rating_denominator at index 1165."
   ]
  },
  {
   "cell_type": "markdown",
   "id": "5dce9110",
   "metadata": {},
   "source": [
    "#### Code"
   ]
  },
  {
   "cell_type": "code",
   "execution_count": null,
   "id": "0b3ea10c",
   "metadata": {},
   "outputs": [],
   "source": [
    "twitter_archive_clean_copy.at[1165, 'rating_numerator'] "
   ]
  },
  {
   "cell_type": "code",
   "execution_count": null,
   "id": "56275dd0",
   "metadata": {},
   "outputs": [],
   "source": [
    "twitter_archive_clean_copy.at[1165, 'rating_numerator'] = 13"
   ]
  },
  {
   "cell_type": "code",
   "execution_count": null,
   "id": "eec70053",
   "metadata": {},
   "outputs": [],
   "source": [
    "twitter_archive_clean_copy.at[1165, 'rating_denominator']"
   ]
  },
  {
   "cell_type": "code",
   "execution_count": null,
   "id": "20f14e92",
   "metadata": {},
   "outputs": [],
   "source": [
    "twitter_archive_clean_copy.at[1165, 'rating_denominator'] = 10"
   ]
  },
  {
   "cell_type": "markdown",
   "id": "f2223dfe",
   "metadata": {},
   "source": [
    "#### Test"
   ]
  },
  {
   "cell_type": "code",
   "execution_count": null,
   "id": "e5bb1281",
   "metadata": {},
   "outputs": [],
   "source": [
    "assert twitter_archive_clean_copy.at[1165, 'rating_numerator'] == 13"
   ]
  },
  {
   "cell_type": "code",
   "execution_count": null,
   "id": "35d4f752",
   "metadata": {},
   "outputs": [],
   "source": [
    "assert twitter_archive_clean_copy.at[1165, 'rating_denominator'] == 10"
   ]
  },
  {
   "cell_type": "markdown",
   "id": "6e09d555",
   "metadata": {},
   "source": [
    " ### Quality Issue #4: 11/10 rating for dog at index 1202 not 50/50"
   ]
  },
  {
   "cell_type": "markdown",
   "id": "6ab9dd25",
   "metadata": {},
   "source": [
    "#### Define\n",
    "Replace 50 with 11 in the rating_numerator at index 1202. <br>\n",
    "Replace 50 with 10 in the rating_denominator at index 1202."
   ]
  },
  {
   "cell_type": "markdown",
   "id": "91076246",
   "metadata": {},
   "source": [
    "#### Code"
   ]
  },
  {
   "cell_type": "code",
   "execution_count": null,
   "id": "b210c4a1",
   "metadata": {},
   "outputs": [],
   "source": [
    "twitter_archive_clean_copy.at[1202, 'rating_numerator'] "
   ]
  },
  {
   "cell_type": "code",
   "execution_count": null,
   "id": "b28508d4",
   "metadata": {},
   "outputs": [],
   "source": [
    "twitter_archive_clean_copy.at[1202, 'rating_numerator'] = 11"
   ]
  },
  {
   "cell_type": "code",
   "execution_count": null,
   "id": "e531a524",
   "metadata": {},
   "outputs": [],
   "source": [
    "twitter_archive_clean_copy.at[1202, 'rating_denominator'] "
   ]
  },
  {
   "cell_type": "code",
   "execution_count": null,
   "id": "8f47f1d0",
   "metadata": {},
   "outputs": [],
   "source": [
    "twitter_archive_clean_copy.at[1202, 'rating_denominator'] = 10"
   ]
  },
  {
   "cell_type": "markdown",
   "id": "d1f8909e",
   "metadata": {},
   "source": [
    "#### Test"
   ]
  },
  {
   "cell_type": "code",
   "execution_count": null,
   "id": "d35ac002",
   "metadata": {},
   "outputs": [],
   "source": [
    "assert twitter_archive_clean_copy.at[1202, 'rating_numerator'] == 11\n",
    "assert twitter_archive_clean_copy.at[1202, 'rating_denominator'] == 10"
   ]
  },
  {
   "cell_type": "markdown",
   "id": "6fed7ff6",
   "metadata": {},
   "source": [
    " ### Quality Issue #5: 10/10 rating for dog at index 1662 not 7/11"
   ]
  },
  {
   "cell_type": "markdown",
   "id": "e9bfcd5d",
   "metadata": {},
   "source": [
    "#### Define\n",
    "Replace 7 with 10 in the rating_numerator at index 1662. <br>\n",
    "Replace 11 with 10 in the rating_numerator at index 1662. "
   ]
  },
  {
   "cell_type": "markdown",
   "id": "a12af11e",
   "metadata": {},
   "source": [
    "#### Code"
   ]
  },
  {
   "cell_type": "code",
   "execution_count": null,
   "id": "8898838e",
   "metadata": {},
   "outputs": [],
   "source": [
    "twitter_archive_clean_copy.at[1662, 'rating_numerator'] "
   ]
  },
  {
   "cell_type": "code",
   "execution_count": null,
   "id": "72a3db8f",
   "metadata": {},
   "outputs": [],
   "source": [
    "twitter_archive_clean_copy.at[1662, 'rating_numerator'] = 10\n",
    "twitter_archive_clean_copy.at[1662, 'rating_denominator'] = 10"
   ]
  },
  {
   "cell_type": "markdown",
   "id": "5600e6ff",
   "metadata": {},
   "source": [
    "#### Test"
   ]
  },
  {
   "cell_type": "code",
   "execution_count": null,
   "id": "4a3f081d",
   "metadata": {},
   "outputs": [],
   "source": [
    "assert twitter_archive_clean_copy.at[1662, 'rating_numerator'] == 10\n",
    "assert twitter_archive_clean_copy.at[1662, 'rating_denominator'] == 10"
   ]
  },
  {
   "cell_type": "markdown",
   "id": "cf919f9d",
   "metadata": {},
   "source": [
    "### Quality Issue #6: 9/10 rating for dog at index 2335 not 1/2"
   ]
  },
  {
   "cell_type": "markdown",
   "id": "b2d4e71e",
   "metadata": {},
   "source": [
    "#### Define\n",
    "Replace 1 with 9 in the rating_numerator at index 2335. <br>\n",
    "Replace 2 with 10 in the rating_numerator at index 2335. "
   ]
  },
  {
   "cell_type": "markdown",
   "id": "d4f45f5c",
   "metadata": {},
   "source": [
    "#### Code"
   ]
  },
  {
   "cell_type": "code",
   "execution_count": null,
   "id": "bff6c569",
   "metadata": {},
   "outputs": [],
   "source": [
    "twitter_archive_clean_copy.at[2335, 'rating_numerator'] "
   ]
  },
  {
   "cell_type": "code",
   "execution_count": null,
   "id": "85fec584",
   "metadata": {},
   "outputs": [],
   "source": [
    "twitter_archive_clean_copy.at[2335, 'rating_denominator'] "
   ]
  },
  {
   "cell_type": "code",
   "execution_count": null,
   "id": "73d48842",
   "metadata": {},
   "outputs": [],
   "source": [
    "twitter_archive_clean_copy.at[2335, 'rating_numerator'] = 9\n",
    "twitter_archive_clean_copy.at[2335, 'rating_denominator'] = 10"
   ]
  },
  {
   "cell_type": "markdown",
   "id": "40e377c8",
   "metadata": {},
   "source": [
    "#### Test"
   ]
  },
  {
   "cell_type": "code",
   "execution_count": null,
   "id": "954bd103",
   "metadata": {},
   "outputs": [],
   "source": [
    "assert twitter_archive_clean_copy.at[2335, 'rating_numerator'] == 9\n",
    "assert twitter_archive_clean_copy.at[2335, 'rating_denominator'] == 10"
   ]
  },
  {
   "cell_type": "markdown",
   "id": "4806c119",
   "metadata": {},
   "source": [
    "### Quality Issue #10 - 23: rating_denominator is not consistent\n",
    " "
   ]
  },
  {
   "cell_type": "markdown",
   "id": "e25067d6",
   "metadata": {},
   "source": [
    "#### Define\n",
    "Reduce the denominator to 10 by dividing both side by an appropriate number."
   ]
  },
  {
   "cell_type": "markdown",
   "id": "df1dcc3d",
   "metadata": {},
   "source": [
    "#### Code"
   ]
  },
  {
   "cell_type": "code",
   "execution_count": null,
   "id": "807d49a3",
   "metadata": {},
   "outputs": [],
   "source": [
    "twitter_archive_clean_copy[twitter_archive_clean_copy['rating_denominator'] < 10]\n",
    "# we need to drop this row because there is actually no rating for this dog. This can be seen in the text column."
   ]
  },
  {
   "cell_type": "code",
   "execution_count": null,
   "id": "e7736805",
   "metadata": {},
   "outputs": [],
   "source": [
    "twitter_archive_clean_copy[twitter_archive_clean_copy['rating_denominator'] > 10]"
   ]
  },
  {
   "cell_type": "code",
   "execution_count": null,
   "id": "be7a961b",
   "metadata": {},
   "outputs": [],
   "source": [
    "# dividing both the numerator and the denominator by a number that will reduce the denominator to 10 if the denominator is greater than 10\n",
    "new_numerator = []\n",
    "new_denominator = []\n",
    "for numerator, denominator in zip(twitter_archive_clean_copy['rating_numerator'].values, twitter_archive_clean_copy['rating_denominator'].values):\n",
    "    divisor = denominator/10\n",
    "    if denominator > 10:\n",
    "        new_numerator.append(int(numerator/divisor))\n",
    "        new_denominator.append(int(denominator/divisor))\n",
    "    else:\n",
    "        new_numerator.append(numerator)\n",
    "        new_denominator.append(denominator)\n",
    "len(new_numerator)"
   ]
  },
  {
   "cell_type": "code",
   "execution_count": null,
   "id": "1b59c445",
   "metadata": {},
   "outputs": [],
   "source": [
    "for numerator in new_numerator:\n",
    "    print(numerator)"
   ]
  },
  {
   "cell_type": "code",
   "execution_count": null,
   "id": "d1debf3f",
   "metadata": {
    "scrolled": false
   },
   "outputs": [],
   "source": [
    "for denominator in new_denominator:\n",
    "    print(denominator)"
   ]
  },
  {
   "cell_type": "code",
   "execution_count": null,
   "id": "6c892508",
   "metadata": {},
   "outputs": [],
   "source": [
    "twitter_archive_clean_copy['rating_numerator'] = new_numerator\n",
    "twitter_archive_clean_copy['rating_denominator'] = new_denominator\n",
    "twitter_archive_clean_copy.head()"
   ]
  },
  {
   "cell_type": "markdown",
   "id": "42c9b647",
   "metadata": {},
   "source": [
    "#### Test"
   ]
  },
  {
   "cell_type": "code",
   "execution_count": null,
   "id": "f89fc050",
   "metadata": {},
   "outputs": [],
   "source": [
    "for i in twitter_archive_clean_copy['rating_denominator'].values:\n",
    "    if i > 10:\n",
    "        print(i)"
   ]
  },
  {
   "cell_type": "code",
   "execution_count": null,
   "id": "1db2621d",
   "metadata": {},
   "outputs": [],
   "source": [
    "twitter_archive_clean_copy.info()"
   ]
  },
  {
   "cell_type": "markdown",
   "id": "6e5201a9",
   "metadata": {},
   "source": [
    "### Quality Issue #7, 8 and 9\n",
    "7. Rating text and score for dog at index 1068 is the same with index 784. Both are the same dog. \n",
    "8. There is actually no rating for dog at index 516. \n",
    "9. There is actually no rating for dog at index 342. "
   ]
  },
  {
   "cell_type": "markdown",
   "id": "51c6f0ae",
   "metadata": {},
   "source": [
    "#### Define\n",
    "Drop the rows"
   ]
  },
  {
   "cell_type": "markdown",
   "id": "eb686b15",
   "metadata": {},
   "source": [
    "#### Code"
   ]
  },
  {
   "cell_type": "code",
   "execution_count": null,
   "id": "2afe7f08",
   "metadata": {},
   "outputs": [],
   "source": [
    "rows_to_drop = [342, 516, 1068]\n",
    "twitter_archive_clean_copy.drop(rows_to_drop, axis=0, inplace = True)"
   ]
  },
  {
   "cell_type": "markdown",
   "id": "b76b1929",
   "metadata": {},
   "source": [
    "#### Test"
   ]
  },
  {
   "cell_type": "code",
   "execution_count": null,
   "id": "60733ad1",
   "metadata": {},
   "outputs": [],
   "source": [
    "twitter_archive_clean_copy.shape\n",
    "# Before, there were 2356 rows. Now, there are 2353 rows. "
   ]
  },
  {
   "cell_type": "markdown",
   "id": "dfbdf631",
   "metadata": {},
   "source": [
    "## Tidiness Issues #1"
   ]
  },
  {
   "cell_type": "markdown",
   "id": "5f48086c",
   "metadata": {},
   "source": [
    "#### Define\n",
    "Created_at column in twitter_jason_df should be split into hour, week_day, month, year and time columns."
   ]
  },
  {
   "cell_type": "markdown",
   "id": "fbcd5032",
   "metadata": {},
   "source": [
    "#### Code"
   ]
  },
  {
   "cell_type": "code",
   "execution_count": null,
   "id": "d6f580b3",
   "metadata": {},
   "outputs": [],
   "source": [
    "date = {'week_day': [i.split()[0] for i in twitter_jason_df_clean_copy['created_at'].values],\n",
    "'month': [i.split()[1] for i in twitter_jason_df_clean_copy['created_at'].values],\n",
    "'time': [i.split()[3] for i in twitter_jason_df_clean_copy['created_at'].values],\n",
    "'year': [i.split()[-1] for i in twitter_jason_df_clean_copy['created_at'].values]\n",
    "}"
   ]
  },
  {
   "cell_type": "code",
   "execution_count": null,
   "id": "813c2af8",
   "metadata": {},
   "outputs": [],
   "source": [
    "created_at_df = pd.DataFrame(date)\n",
    "hour_in_the_day = [time.split(':')[0] for time in created_at_df['time'].values]\n",
    "created_at_df['hour_in_the_day'] = hour_in_the_day\n",
    "created_at_df"
   ]
  },
  {
   "cell_type": "code",
   "execution_count": null,
   "id": "6b56815b",
   "metadata": {},
   "outputs": [],
   "source": [
    "new_jason_df = pd.concat([created_at_df, twitter_jason_df_clean_copy], axis=1)\n",
    "new_jason_df.drop('created_at', axis=1, inplace=True)"
   ]
  },
  {
   "cell_type": "markdown",
   "id": "40ebd360",
   "metadata": {},
   "source": [
    "#### Test"
   ]
  },
  {
   "cell_type": "code",
   "execution_count": null,
   "id": "4ee0d0c3",
   "metadata": {},
   "outputs": [],
   "source": [
    "new_jason_df.head()"
   ]
  },
  {
   "cell_type": "markdown",
   "id": "9fcc0aae",
   "metadata": {},
   "source": [
    "## Tidiness Issues #2"
   ]
  },
  {
   "cell_type": "markdown",
   "id": "d34a7d55",
   "metadata": {},
   "source": [
    "#### Define\n",
    "Entities column in twitter_jason_df should be a table of its own."
   ]
  },
  {
   "cell_type": "markdown",
   "id": "ed56fe97",
   "metadata": {},
   "source": [
    "#### Code"
   ]
  },
  {
   "cell_type": "code",
   "execution_count": null,
   "id": "8171a126",
   "metadata": {},
   "outputs": [],
   "source": [
    "entities_table = list(twitter_jason_df_clean_copy['entities'])\n",
    "entities_df = pd.DataFrame(entities_table)"
   ]
  },
  {
   "cell_type": "markdown",
   "id": "c059abe9",
   "metadata": {},
   "source": [
    "#### Test"
   ]
  },
  {
   "cell_type": "code",
   "execution_count": null,
   "id": "6afb63e1",
   "metadata": {},
   "outputs": [],
   "source": [
    "entities_df.head()"
   ]
  },
  {
   "cell_type": "code",
   "execution_count": null,
   "id": "43003424",
   "metadata": {},
   "outputs": [],
   "source": [
    "entities_df.info()"
   ]
  },
  {
   "cell_type": "markdown",
   "id": "276ff3a1",
   "metadata": {},
   "source": [
    "##### The entities table is not needed for this analysis."
   ]
  },
  {
   "cell_type": "markdown",
   "id": "555d3ff7",
   "metadata": {},
   "source": [
    "## Tidiness Issues #3"
   ]
  },
  {
   "cell_type": "markdown",
   "id": "31db1a3a",
   "metadata": {},
   "source": [
    "#### Define\n",
    "extended entities should be a table of its own."
   ]
  },
  {
   "cell_type": "markdown",
   "id": "43e8e2ab",
   "metadata": {},
   "source": [
    "#### Code"
   ]
  },
  {
   "cell_type": "code",
   "execution_count": null,
   "id": "d47049ca",
   "metadata": {},
   "outputs": [],
   "source": [
    "twitter_jason_df_clean_copy['extended_entities'].isna().sum()"
   ]
  },
  {
   "cell_type": "code",
   "execution_count": null,
   "id": "6f0eb71c",
   "metadata": {},
   "outputs": [],
   "source": [
    "twitter_jason_df_clean_copy.info()"
   ]
  },
  {
   "cell_type": "code",
   "execution_count": null,
   "id": "d77effd2",
   "metadata": {},
   "outputs": [],
   "source": [
    "twitter_jason_df_clean_copy['extended_entities'].values"
   ]
  },
  {
   "cell_type": "code",
   "execution_count": null,
   "id": "bfb49a6f",
   "metadata": {},
   "outputs": [],
   "source": [
    "# treating the null values in the extended_entities column\n",
    "missing_values = {'media': [{'id': 000000000000000000, 'id_str': '000000000000000000', 'indices': [00, 000], \n",
    "                'media_url': 'missing_value', 'media_url_https': 'missing_value',\n",
    "                'url': 'missing_value', 'display_url': 'missing_value', \n",
    "                'expanded_url': 'missing_value', 'type': 'missing_value', \n",
    "                'sizes': {'large': {'w': 000, 'h': 000, 'resize': 'missing_value'}, 'thumb': {'w': 000, 'h': 000, 'resize': 'missing_value'}, \n",
    "                'small': {'w': 000, 'h': 000, 'resize': 'missing_value'}, 'medium': {'w': 000, 'h': 000, 'resize': 'missing_value'}}}]}\n",
    "\n",
    "whole_list = []\n",
    "extended_entities_list = twitter_jason_df_clean_copy['extended_entities'].values\n",
    "for i in extended_entities_list:\n",
    "    if type(i) == float:\n",
    "        whole_list.append(missing_values)\n",
    "    else:\n",
    "        whole_list.append(i)\n",
    "for a in whole_list:\n",
    "    assert type(a) == dict"
   ]
  },
  {
   "cell_type": "code",
   "execution_count": null,
   "id": "7ee0aa51",
   "metadata": {},
   "outputs": [],
   "source": [
    "extended_entities_new_list = []\n",
    "for item in whole_list:\n",
    "    for value in item['media']:\n",
    "        extended_entities_new_list.append(value)\n",
    "extended_entities_df = pd.DataFrame(extended_entities_new_list)"
   ]
  },
  {
   "cell_type": "markdown",
   "id": "6d2a7436",
   "metadata": {},
   "source": [
    "#### Test"
   ]
  },
  {
   "cell_type": "code",
   "execution_count": null,
   "id": "21d60c14",
   "metadata": {},
   "outputs": [],
   "source": [
    "extended_entities_df.head()"
   ]
  },
  {
   "cell_type": "markdown",
   "id": "1579322d",
   "metadata": {},
   "source": [
    "##### The sizes column should be a table of its own."
   ]
  },
  {
   "cell_type": "code",
   "execution_count": null,
   "id": "bd228618",
   "metadata": {},
   "outputs": [],
   "source": [
    "extended_entities_sizes = list(extended_entities_df['sizes'])\n",
    "extended_entities_sizes_df = pd.DataFrame(extended_entities_sizes)\n",
    "extended_entities_sizes_df"
   ]
  },
  {
   "cell_type": "markdown",
   "id": "cde27198",
   "metadata": {},
   "source": [
    "##### Let's split the columns in extended_entities_sizes_df."
   ]
  },
  {
   "cell_type": "code",
   "execution_count": null,
   "id": "12c7d3ca",
   "metadata": {},
   "outputs": [],
   "source": [
    "# defining a function\n",
    "def split_size_df(df, column_in_quotes):\n",
    "    sizes_list = list(df[column_in_quotes])\n",
    "    split_df = pd.DataFrame(sizes_list)\n",
    "    split_df.columns = [column_in_quotes + '_width', column_in_quotes + '_height', column_in_quotes + '_resize']\n",
    "    drop_df = df.drop([column_in_quotes], axis=1)\n",
    "    new_df = pd.concat([drop_df, split_df], axis=1)\n",
    "    return new_df"
   ]
  },
  {
   "cell_type": "code",
   "execution_count": null,
   "id": "1f0c8cff",
   "metadata": {},
   "outputs": [],
   "source": [
    "large = split_size_df(extended_entities_sizes_df, 'large')\n",
    "thumb = split_size_df(large, 'thumb')\n",
    "small = split_size_df(thumb, 'small')\n",
    "extended_entities_sizes_df = split_size_df(small, 'medium')\n",
    "extended_entities_sizes_df"
   ]
  },
  {
   "cell_type": "code",
   "execution_count": null,
   "id": "5fdb478d",
   "metadata": {},
   "outputs": [],
   "source": [
    "extended_entities_sizes_df.info()"
   ]
  },
  {
   "cell_type": "markdown",
   "id": "60c84249",
   "metadata": {},
   "source": [
    "##### The extended_entities column and all the subtables are not needed in this analysis"
   ]
  },
  {
   "cell_type": "code",
   "execution_count": null,
   "id": "b98278d1",
   "metadata": {},
   "outputs": [],
   "source": [
    "needed_twitter_jason_dfcolumns = new_jason_df[['id', 'hour_in_the_day', 'week_day', 'month', 'year', 'retweet_count', 'favorite_count']]\n",
    "needed_twitter_jason_dfcolumns.rename(columns = {'id':'tweet_id'}, inplace=True)\n",
    "needed_twitter_jason_dfcolumns"
   ]
  },
  {
   "cell_type": "code",
   "execution_count": null,
   "id": "f9a19440",
   "metadata": {},
   "outputs": [],
   "source": [
    "twitter_archive_clean_copy.columns"
   ]
  },
  {
   "cell_type": "code",
   "execution_count": null,
   "id": "8a2cef10",
   "metadata": {},
   "outputs": [],
   "source": [
    "twitter_archive_clean_copy.drop(['in_reply_to_status_id', 'in_reply_to_user_id', 'timestamp',\n",
    "       'source', 'retweeted_status_id', 'retweeted_status_user_id',\n",
    "       'retweeted_status_timestamp', 'expanded_urls'], axis=1, inplace=True)\n",
    "# The above columns are not needed for the analysis"
   ]
  },
  {
   "cell_type": "code",
   "execution_count": null,
   "id": "e633d415",
   "metadata": {},
   "outputs": [],
   "source": [
    "twitter_archive_clean_copy"
   ]
  },
  {
   "cell_type": "code",
   "execution_count": null,
   "id": "ca1eff92",
   "metadata": {},
   "outputs": [],
   "source": [
    "new_df = pd.merge(needed_twitter_jason_dfcolumns, twitter_archive_clean_copy)\n",
    "new_df"
   ]
  },
  {
   "cell_type": "code",
   "execution_count": null,
   "id": "c79f57f8",
   "metadata": {},
   "outputs": [],
   "source": [
    "new_df.info()"
   ]
  },
  {
   "cell_type": "code",
   "execution_count": null,
   "id": "50b93844",
   "metadata": {},
   "outputs": [],
   "source": [
    "new_df.sample(10)"
   ]
  },
  {
   "cell_type": "code",
   "execution_count": null,
   "id": "41134747",
   "metadata": {
    "scrolled": true
   },
   "outputs": [],
   "source": [
    "image_predictions_df_clean_copy"
   ]
  },
  {
   "cell_type": "code",
   "execution_count": null,
   "id": "8f8928da",
   "metadata": {
    "scrolled": true
   },
   "outputs": [],
   "source": [
    "twitter_archive_master = pd.merge(new_df, image_predictions_df_clean_copy)\n",
    "twitter_archive_master.head(10)"
   ]
  },
  {
   "cell_type": "markdown",
   "id": "bbe88b01",
   "metadata": {},
   "source": [
    "## Storing Data\n",
    "The gathered, assessed, and cleaned master dataset will be saved to a CSV file named \"twitter_archive_master.csv\"."
   ]
  },
  {
   "cell_type": "code",
   "execution_count": null,
   "id": "bf25c78e",
   "metadata": {},
   "outputs": [],
   "source": [
    "twitter_archive_master.to_csv('twitter_archive_master.csv')"
   ]
  },
  {
   "cell_type": "code",
   "execution_count": null,
   "id": "d8804545",
   "metadata": {},
   "outputs": [],
   "source": [
    "# checking whether the twitter_archive_master.csv is in the present working directory\n",
    "os.listdir()"
   ]
  },
  {
   "cell_type": "code",
   "execution_count": null,
   "id": "4aa91181",
   "metadata": {},
   "outputs": [],
   "source": [
    "twitter_archive_master.info()"
   ]
  },
  {
   "cell_type": "markdown",
   "id": "cdd7972e",
   "metadata": {},
   "source": [
    "# Eploratory Data Analysis"
   ]
  },
  {
   "cell_type": "code",
   "execution_count": null,
   "id": "7fa37a14",
   "metadata": {},
   "outputs": [],
   "source": [
    "correlation_matrix = twitter_archive_master.corr()\n",
    "sns.set(rc={'figure.figsize':(12,10)})\n",
    "sns.heatmap(correlation_matrix, annot=True)\n",
    "plt.show()"
   ]
  },
  {
   "cell_type": "markdown",
   "id": "b609f772",
   "metadata": {},
   "source": [
    "The following can be deduced from the correlation matrix: <br>\n",
    "<ul>\n",
    "<li>favorite_count and retweet_count columns have a correlation of 0.79 which is a significant figure to consider. This shows that there exists a positive correlation between people's like of a rating and their tendency of retweeting the rating. In other words, people are most likely to retweet a rating that they like. <br>\n",
    "<li>There is no correlation between rating score (rating_numerator column) and people's like of a rating (favorite_count). The correlation is 0.016 which is insignificant. <br>\n",
    "<li>There is no correlation between rating score (rating_numerator column) and people's tendency of retweeting a rating (retweet_count). The correlation is 0.018 which is insignificant. <br>\n",
    "<li>There is a negative correlation between p1_conf and p3_conf. The correlation is -0.71. This means that as p1_conf increases, p3_conf decreases and vice versa. <br>\n",
    "<li>There is a negative correlation between p1_conf and p2_conf. The correlation is -0.51. This means that as p1_conf increases, p2_conf decreases and vice versa. <br>\n",
    "<li>There is a positive correlation between p1_dog and p2_dog. The correlation is 0.63. This means that if p1_dog is 'True', p2_dog is also likely to be 'True'. <br>\n",
    "<li>There is a positive correlation between p2_dog and p3_dog. The correlation is 0.55. This means that if p2_dog is 'True', p3_dog is also likely to be 'True'. <br>\n",
    "<li>There is a positive correlation between p1_dog and p3_dog. The correlation is 0.56. This means that if p1_dog is 'True', p3_dog is also likely to be 'True'. <br>\n",
    "<ul>"
   ]
  },
  {
   "cell_type": "code",
   "execution_count": null,
   "id": "6c29610e",
   "metadata": {},
   "outputs": [],
   "source": [
    "twitter_archive_master"
   ]
  },
  {
   "cell_type": "markdown",
   "id": "a69cb578",
   "metadata": {},
   "source": [
    "### Is there any observed pattern between the hour_in_the_day and the rating score?"
   ]
  },
  {
   "cell_type": "code",
   "execution_count": null,
   "id": "e2986a8b",
   "metadata": {},
   "outputs": [],
   "source": [
    "twitter_archive_master.groupby('hour_in_the_day').mean()['rating_numerator'].sort_values(ascending=False)"
   ]
  },
  {
   "cell_type": "markdown",
   "id": "020c4d39",
   "metadata": {},
   "source": [
    "The highest mean rating was done between 15:00 and 16:00 daily."
   ]
  },
  {
   "cell_type": "markdown",
   "id": "5d73c457",
   "metadata": {},
   "source": [
    "### Is there any observed pattern between the week_day and the rating score?"
   ]
  },
  {
   "cell_type": "code",
   "execution_count": null,
   "id": "c748af5a",
   "metadata": {},
   "outputs": [],
   "source": [
    "twitter_archive_master.groupby('week_day').mean()['rating_numerator'].sort_values(ascending=False)"
   ]
  },
  {
   "cell_type": "markdown",
   "id": "e53b587e",
   "metadata": {},
   "source": [
    "Mondays had the highest mean ratings while Saturdays had the lowest mean rating."
   ]
  },
  {
   "cell_type": "markdown",
   "id": "4df2e2ce",
   "metadata": {},
   "source": [
    "### Is there any observed pattern between the month and the rating score?"
   ]
  },
  {
   "cell_type": "code",
   "execution_count": null,
   "id": "8daee8ad",
   "metadata": {},
   "outputs": [],
   "source": [
    "twitter_archive_master.groupby('month').mean()['rating_numerator'].sort_values(ascending=False)"
   ]
  },
  {
   "cell_type": "markdown",
   "id": "066ac122",
   "metadata": {},
   "source": [
    "WeRateDogs tend to give very high ratings in the month of July and very low ratings in the month of December."
   ]
  },
  {
   "cell_type": "markdown",
   "id": "d49e4438",
   "metadata": {},
   "source": [
    "### Is there any observed pattern between the year and the rating score?"
   ]
  },
  {
   "cell_type": "code",
   "execution_count": null,
   "id": "89f32911",
   "metadata": {},
   "outputs": [],
   "source": [
    "twitter_archive_master.groupby('year').mean()['rating_numerator'].sort_values(ascending=False)"
   ]
  },
  {
   "cell_type": "markdown",
   "id": "0b9df55d",
   "metadata": {},
   "source": [
    "Although there are no significant differences between the ratings in the three years under study, 2016 got the highest ratings while 2015 got the lowest ratings."
   ]
  },
  {
   "cell_type": "markdown",
   "id": "ba5afb1f",
   "metadata": {},
   "source": [
    "### Is there any observed pattern between the hour_in_the_day and the favorite_count?"
   ]
  },
  {
   "cell_type": "code",
   "execution_count": null,
   "id": "3ab0ec9f",
   "metadata": {},
   "outputs": [],
   "source": [
    "twitter_archive_master.groupby('hour_in_the_day').mean()['favorite_count'].sort_values(ascending=False)"
   ]
  },
  {
   "cell_type": "markdown",
   "id": "ee355306",
   "metadata": {},
   "source": [
    "People tend to like a rating at between 6:00 and 7:00."
   ]
  },
  {
   "cell_type": "markdown",
   "id": "4ee82f7f",
   "metadata": {},
   "source": [
    "### Is there any observed pattern between the week_day and the favorite_count?"
   ]
  },
  {
   "cell_type": "code",
   "execution_count": null,
   "id": "2aeec683",
   "metadata": {},
   "outputs": [],
   "source": [
    "twitter_archive_master.groupby('week_day').mean()['favorite_count'].sort_values(ascending=False)"
   ]
  },
  {
   "cell_type": "markdown",
   "id": "f0a91a51",
   "metadata": {},
   "source": [
    "People are more likely to like a rating on a Wednesday and are less likely to like a rating on a Thursday"
   ]
  },
  {
   "cell_type": "markdown",
   "id": "d0a9b999",
   "metadata": {},
   "source": [
    "### Is there any observed pattern between the hour_in_the_day and the retweet_count?"
   ]
  },
  {
   "cell_type": "code",
   "execution_count": null,
   "id": "061fcee9",
   "metadata": {},
   "outputs": [],
   "source": [
    "twitter_archive_master.groupby('hour_in_the_day').mean()['retweet_count'].sort_values(ascending=False)"
   ]
  },
  {
   "cell_type": "markdown",
   "id": "a1f68be3",
   "metadata": {},
   "source": [
    "People are more likely to retweet a rating between 6:00 and 7:00."
   ]
  },
  {
   "cell_type": "markdown",
   "id": "9ea226b2",
   "metadata": {},
   "source": [
    "### Is there any observed pattern between the week_day and the retweet_count?"
   ]
  },
  {
   "cell_type": "code",
   "execution_count": null,
   "id": "33c3af22",
   "metadata": {},
   "outputs": [],
   "source": [
    "twitter_archive_master.groupby('week_day').mean()['retweet_count'].sort_values(ascending=False)"
   ]
  },
  {
   "cell_type": "markdown",
   "id": "13f08dd7",
   "metadata": {},
   "source": [
    "People are more likely to retweet a rating on a Wednesday and are less likely to retweet a rating on a Thursday"
   ]
  },
  {
   "cell_type": "markdown",
   "id": "e78fef4f",
   "metadata": {},
   "source": [
    "### Is there any observed pattern between the month and the favorite_count?"
   ]
  },
  {
   "cell_type": "code",
   "execution_count": null,
   "id": "09887201",
   "metadata": {},
   "outputs": [],
   "source": [
    "twitter_archive_master.groupby('month').mean()['favorite_count'].sort_values(ascending=False)"
   ]
  },
  {
   "cell_type": "markdown",
   "id": "0fb15879",
   "metadata": {},
   "source": [
    "People are more likely to like a rating in June and are less likely to like a rating on a November"
   ]
  },
  {
   "cell_type": "markdown",
   "id": "db5b60ae",
   "metadata": {},
   "source": [
    "### Is there any observed pattern between the month and the retweet_count?"
   ]
  },
  {
   "cell_type": "code",
   "execution_count": null,
   "id": "0a8f5e01",
   "metadata": {},
   "outputs": [],
   "source": [
    "twitter_archive_master.groupby('month').mean()['retweet_count'].sort_values(ascending=False)"
   ]
  },
  {
   "cell_type": "markdown",
   "id": "e0cd9eeb",
   "metadata": {},
   "source": [
    "People are more likely to retweet a rating in June and are less likely to retweet a rating in November."
   ]
  },
  {
   "cell_type": "markdown",
   "id": "a0b32f97",
   "metadata": {},
   "source": [
    "### Is there any observed pattern between the year and the retweet_count?"
   ]
  },
  {
   "cell_type": "code",
   "execution_count": null,
   "id": "a0c32f00",
   "metadata": {},
   "outputs": [],
   "source": [
    "twitter_archive_master.groupby('year').mean()['retweet_count'].sort_values(ascending=False)"
   ]
  },
  {
   "cell_type": "markdown",
   "id": "efa7453f",
   "metadata": {},
   "source": [
    "People retweeted more ratings in 2017, about six times more than in 2015."
   ]
  },
  {
   "cell_type": "markdown",
   "id": "5ec64663",
   "metadata": {},
   "source": [
    "### Is there any observed pattern between the year and the favorite_count?"
   ]
  },
  {
   "cell_type": "code",
   "execution_count": null,
   "id": "d5da2f11",
   "metadata": {},
   "outputs": [],
   "source": [
    "twitter_archive_master.groupby('year').mean()['favorite_count'].sort_values(ascending=False)"
   ]
  },
  {
   "cell_type": "markdown",
   "id": "2ce184e5",
   "metadata": {},
   "source": [
    "People liked more ratings in 2017, about ten times more than in 2015."
   ]
  },
  {
   "cell_type": "markdown",
   "id": "95dfbe0b",
   "metadata": {},
   "source": [
    "### Is there relationship between favorite_count and retweet_count?"
   ]
  },
  {
   "cell_type": "code",
   "execution_count": null,
   "id": "95cb8a36",
   "metadata": {},
   "outputs": [],
   "source": [
    "# Scatter plot of favorite_count vs. retweet_count\n",
    "plt.figure(figsize=[8, 6])\n",
    "plt.scatter(twitter_archive_master['favorite_count'], twitter_archive_master['retweet_count'])\n",
    "plt.title(\"Scatter plot of people's like of a rating vs their tendency of retweeting the rating\")\n",
    "plt.xlabel('favorite_count')\n",
    "plt.ylabel('retweet_count')\n",
    "plt.show"
   ]
  },
  {
   "cell_type": "markdown",
   "id": "33b46954",
   "metadata": {},
   "source": [
    "There is a very strong positive correlation between favorite_count and retweet_count. This means that when people like a rating, they are likely to retweet the rating."
   ]
  },
  {
   "cell_type": "markdown",
   "id": "3e1bc67b",
   "metadata": {},
   "source": [
    "### Is there relationship between rating score and favorite_count?"
   ]
  },
  {
   "cell_type": "code",
   "execution_count": null,
   "id": "d41bf4b3",
   "metadata": {},
   "outputs": [],
   "source": [
    "# Scatter plot of favorite_count vs. rating_numerator\n",
    "plt.figure(figsize=[8, 6])\n",
    "plt.scatter(twitter_archive_master['favorite_count'], twitter_archive_master['rating_numerator'])\n",
    "plt.title(\"Scatter plot of rating score vs people's like of a rating\")\n",
    "plt.xlabel('favorite_count')\n",
    "plt.ylabel('rating_numerator')\n",
    "plt.show"
   ]
  },
  {
   "cell_type": "markdown",
   "id": "262a9b24",
   "metadata": {},
   "source": [
    "There is no correlation between the rating score given by WeRateDogs and people's likeness of the rating."
   ]
  },
  {
   "cell_type": "markdown",
   "id": "f7393b60",
   "metadata": {},
   "source": [
    "### Is there relationship between rating score and retweet_count?"
   ]
  },
  {
   "cell_type": "code",
   "execution_count": null,
   "id": "485ab48e",
   "metadata": {},
   "outputs": [],
   "source": [
    "# Scatter plot of retweet_count vs. rating_numerator\n",
    "plt.figure(figsize=[8, 6])\n",
    "plt.scatter(twitter_archive_master['retweet_count'], twitter_archive_master['rating_numerator'])\n",
    "plt.title(\"Scatter plot of rating score vs people's tendency to retweet a rating\")\n",
    "plt.xlabel('retweet_count')\n",
    "plt.ylabel('rating_numerator')\n",
    "plt.show"
   ]
  },
  {
   "cell_type": "markdown",
   "id": "335aad8f",
   "metadata": {},
   "source": [
    "There is no correlation between the rating score given by WeRateDogs and people's tendency to retweet a rating."
   ]
  },
  {
   "cell_type": "markdown",
   "id": "2dbe1bd4",
   "metadata": {},
   "source": [
    "# Conclusion"
   ]
  },
  {
   "cell_type": "markdown",
   "id": "67b214cc",
   "metadata": {},
   "source": [
    "This analysis is based on the WeRateDogs Twitter archive. The following are the insights drawn from the study.\n",
    "\n",
    "# Insights\n",
    "<ul>\n",
    "<li>favorite_count and retweet_count columns have a correlation of 0.79 which is a significant figure to consider. This shows that there exists a positive correlation between people's like of a rating and their tendency of retweeting the rating. In other words, people are most likely to retweet a rating that they like. <br>\n",
    "<li>There is no correlation between rating score (rating_numerator column) and people's like of a rating (favorite_count). The correlation is 0.016 which is insignificant. <br>\n",
    "<li>There is no correlation between rating score (rating_numerator column) and people's tendency of retweeting a rating (retweet_count). The correlation is 0.018 which is insignificant. <br>\n",
    "<li>The highest mean rating was done between 15:00 and 16:00 daily. This means that WeRateDogs  give high ratings within this hour of the day.\n",
    "<li>Mondays had the highest mean ratings while Saturdays had the lowest mean rating. This means that WeRateDogs give high ratings on Mondays.\n",
    "<li>WeRateDogs tend to give very high ratings in the month of July and very low ratings in the month of December.\n",
    "<li>Although there are no significant differences between the ratings in the three years under study, 2016 got the highest ratings while 2015 got the lowest ratings.\n",
    "<li>People tend to like a rating between the hours of 6:00 and 7:00.\n",
    "<li>People are more likely to like a rating on a Wednesday and are less likely to like a rating on a Thursday.\n",
    "<li>People are more likely to like a rating in June and are less likely to like a rating in November\n",
    "<li>People are more likely to retweet a rating in June and are less likely to retweet a rating in November.\n",
    "<li>People retweeted more ratings in 2017, about six times more than in 2015.\n",
    "<li>People liked more ratings in 2017, about ten times more than in 2015.\n",
    "<ul>\n"
   ]
  },
  {
   "cell_type": "markdown",
   "id": "4b48b274",
   "metadata": {},
   "source": [
    "# Limitations\n",
    "There were outliers in the rating_numerator column which affected the results of the analysis. Perhaps, different insights would have been generated if those outliers were removed.\n"
   ]
  },
  {
   "cell_type": "markdown",
   "id": "641a7d18",
   "metadata": {},
   "source": [
    "# References\n",
    "N/A"
   ]
  }
 ],
 "metadata": {
  "kernelspec": {
   "display_name": "Python 3",
   "language": "python",
   "name": "python3"
  },
  "language_info": {
   "codemirror_mode": {
    "name": "ipython",
    "version": 3
   },
   "file_extension": ".py",
   "mimetype": "text/x-python",
   "name": "python",
   "nbconvert_exporter": "python",
   "pygments_lexer": "ipython3",
   "version": "3.6.13"
  }
 },
 "nbformat": 4,
 "nbformat_minor": 5
}
